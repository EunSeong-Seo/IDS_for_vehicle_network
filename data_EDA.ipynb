{
 "cells": [
  {
   "cell_type": "code",
   "execution_count": 1,
   "metadata": {
    "collapsed": true
   },
   "outputs": [],
   "source": [
    "import pandas as pd\n",
    "import numpy as np\n",
    "from category_encoders import BinaryEncoder"
   ]
  },
  {
   "cell_type": "markdown",
   "source": [
    "# 1. Load data"
   ],
   "metadata": {
    "collapsed": false
   }
  },
  {
   "cell_type": "code",
   "execution_count": 157,
   "outputs": [],
   "source": [
    "# set data paths\n",
    "can_dataset_path_for_D_free = 'dataset/Pre_train_D_attack_free.csv'\n",
    "can_dataset_path_for_S_free = 'dataset/Pre_train_S_attack_free.csv'\n",
    "can_dataset_path_for_D_1 = 'dataset/Pre_train_D_attack_1.csv'\n",
    "can_dataset_path_for_D_2 = 'dataset/Pre_train_D_attack_2.csv'\n",
    "\n",
    "\n",
    "# data load (Driving state, Stopping state)\n",
    "data_D_free= pd.read_csv(\n",
    "    can_dataset_path_for_D_free,\n",
    "    engine = 'python',\n",
    "    encoding = 'cp949'\n",
    ")\n",
    "\n",
    "data_S_free= pd.read_csv(\n",
    "    can_dataset_path_for_S_free,\n",
    "    engine = 'python',\n",
    "    encoding = 'cp949'\n",
    ")\n",
    "\n",
    "data_D_attack_1= pd.read_csv(\n",
    "    can_dataset_path_for_D_1,\n",
    "    engine = 'python',\n",
    "    encoding = 'cp949'\n",
    ")\n",
    "\n",
    "data_D_attack_2= pd.read_csv(\n",
    "    can_dataset_path_for_D_2,\n",
    "    engine = 'python',\n",
    "    encoding = 'cp949'\n",
    ")"
   ],
   "metadata": {
    "collapsed": false,
    "pycharm": {
     "name": "#%%\n"
    }
   }
  },
  {
   "cell_type": "markdown",
   "source": [
    "# 2. attack free data EDA"
   ],
   "metadata": {
    "collapsed": false
   }
  },
  {
   "cell_type": "code",
   "execution_count": 3,
   "outputs": [
    {
     "data": {
      "text/plain": "      Timestamp Arbitration_ID  DLC                     Data   Class\n0  1.597708e+09            260    8  06 25 05 30 FF CF 71 55  Normal\n1  1.597708e+09            329    8  4A C5 7E 8C 31 2D 01 10  Normal\n2  1.597708e+09            38D    8  00 00 49 00 90 7F FE 01  Normal\n3  1.597708e+09            420    8  50 1E 00 C8 FC 4F 6A 00  Normal\n4  1.597708e+09            421    8  FE 07 00 FF E3 7F 00 52  Normal",
      "text/html": "<div>\n<style scoped>\n    .dataframe tbody tr th:only-of-type {\n        vertical-align: middle;\n    }\n\n    .dataframe tbody tr th {\n        vertical-align: top;\n    }\n\n    .dataframe thead th {\n        text-align: right;\n    }\n</style>\n<table border=\"1\" class=\"dataframe\">\n  <thead>\n    <tr style=\"text-align: right;\">\n      <th></th>\n      <th>Timestamp</th>\n      <th>Arbitration_ID</th>\n      <th>DLC</th>\n      <th>Data</th>\n      <th>Class</th>\n    </tr>\n  </thead>\n  <tbody>\n    <tr>\n      <th>0</th>\n      <td>1.597708e+09</td>\n      <td>260</td>\n      <td>8</td>\n      <td>06 25 05 30 FF CF 71 55</td>\n      <td>Normal</td>\n    </tr>\n    <tr>\n      <th>1</th>\n      <td>1.597708e+09</td>\n      <td>329</td>\n      <td>8</td>\n      <td>4A C5 7E 8C 31 2D 01 10</td>\n      <td>Normal</td>\n    </tr>\n    <tr>\n      <th>2</th>\n      <td>1.597708e+09</td>\n      <td>38D</td>\n      <td>8</td>\n      <td>00 00 49 00 90 7F FE 01</td>\n      <td>Normal</td>\n    </tr>\n    <tr>\n      <th>3</th>\n      <td>1.597708e+09</td>\n      <td>420</td>\n      <td>8</td>\n      <td>50 1E 00 C8 FC 4F 6A 00</td>\n      <td>Normal</td>\n    </tr>\n    <tr>\n      <th>4</th>\n      <td>1.597708e+09</td>\n      <td>421</td>\n      <td>8</td>\n      <td>FE 07 00 FF E3 7F 00 52</td>\n      <td>Normal</td>\n    </tr>\n  </tbody>\n</table>\n</div>"
     },
     "execution_count": 3,
     "metadata": {},
     "output_type": "execute_result"
    }
   ],
   "source": [
    "data_D_free.head()"
   ],
   "metadata": {
    "collapsed": false,
    "pycharm": {
     "name": "#%%\n"
    }
   }
  },
  {
   "cell_type": "code",
   "execution_count": 4,
   "outputs": [
    {
     "data": {
      "text/plain": "      Timestamp Arbitration_ID  DLC                     Data   Class\n0  1.597708e+09            391    8  00 00 00 00 00 00 04 77  Normal\n1  1.597708e+09            251    8  F0 03 A3 EE 00 F3 07 80  Normal\n2  1.597708e+09            2B0    6        1D 00 00 07 83 AE  Normal\n3  1.597708e+09            4F1    4              20 00 60 41  Normal\n4  1.597708e+09            50C    8  40 0E 00 08 06 10 00 D2  Normal",
      "text/html": "<div>\n<style scoped>\n    .dataframe tbody tr th:only-of-type {\n        vertical-align: middle;\n    }\n\n    .dataframe tbody tr th {\n        vertical-align: top;\n    }\n\n    .dataframe thead th {\n        text-align: right;\n    }\n</style>\n<table border=\"1\" class=\"dataframe\">\n  <thead>\n    <tr style=\"text-align: right;\">\n      <th></th>\n      <th>Timestamp</th>\n      <th>Arbitration_ID</th>\n      <th>DLC</th>\n      <th>Data</th>\n      <th>Class</th>\n    </tr>\n  </thead>\n  <tbody>\n    <tr>\n      <th>0</th>\n      <td>1.597708e+09</td>\n      <td>391</td>\n      <td>8</td>\n      <td>00 00 00 00 00 00 04 77</td>\n      <td>Normal</td>\n    </tr>\n    <tr>\n      <th>1</th>\n      <td>1.597708e+09</td>\n      <td>251</td>\n      <td>8</td>\n      <td>F0 03 A3 EE 00 F3 07 80</td>\n      <td>Normal</td>\n    </tr>\n    <tr>\n      <th>2</th>\n      <td>1.597708e+09</td>\n      <td>2B0</td>\n      <td>6</td>\n      <td>1D 00 00 07 83 AE</td>\n      <td>Normal</td>\n    </tr>\n    <tr>\n      <th>3</th>\n      <td>1.597708e+09</td>\n      <td>4F1</td>\n      <td>4</td>\n      <td>20 00 60 41</td>\n      <td>Normal</td>\n    </tr>\n    <tr>\n      <th>4</th>\n      <td>1.597708e+09</td>\n      <td>50C</td>\n      <td>8</td>\n      <td>40 0E 00 08 06 10 00 D2</td>\n      <td>Normal</td>\n    </tr>\n  </tbody>\n</table>\n</div>"
     },
     "execution_count": 4,
     "metadata": {},
     "output_type": "execute_result"
    }
   ],
   "source": [
    "data_S_free.head()"
   ],
   "metadata": {
    "collapsed": false,
    "pycharm": {
     "name": "#%%\n"
    }
   }
  },
  {
   "cell_type": "code",
   "execution_count": 5,
   "outputs": [
    {
     "name": "stdout",
     "output_type": "stream",
     "text": [
      "## Shape of Driving state ##\n",
      "number of data :  179346\n",
      "number of feature :  5 \n",
      "\n",
      "## Data types of Driving state ##\n",
      "Timestamp         float64\n",
      "Arbitration_ID     object\n",
      "DLC                 int64\n",
      "Data               object\n",
      "Class              object\n",
      "dtype: object \n",
      "\n",
      "## the number of total IDs in Driving state ##\n",
      "number of IDs :  73 \n",
      "\n"
     ]
    }
   ],
   "source": [
    "print('## Shape of Driving state ##')\n",
    "print('number of data : ', data_D_free.shape[0])\n",
    "print('number of feature : ', data_D_free.shape[1],'\\n')\n",
    "print('## Data types of Driving state ##')\n",
    "print(data_D_free.dtypes, '\\n')\n",
    "print('## the number of total IDs in Driving state ##')\n",
    "print('number of IDs : ',len(data_D_free['Arbitration_ID'].unique()),'\\n')"
   ],
   "metadata": {
    "collapsed": false,
    "pycharm": {
     "name": "#%%\n"
    }
   }
  },
  {
   "cell_type": "code",
   "execution_count": 6,
   "outputs": [
    {
     "name": "stdout",
     "output_type": "stream",
     "text": [
      "## Shape of Stopping state ##\n",
      "number of data :  180686\n",
      "number of feature :  5 \n",
      "\n",
      "## Data types of Stopping state ##\n",
      "Timestamp         float64\n",
      "Arbitration_ID     object\n",
      "DLC                 int64\n",
      "Data               object\n",
      "Class              object\n",
      "dtype: object \n",
      "\n",
      "## the number of total IDs in Stopping state ##\n",
      "number of IDs :  73 \n",
      "\n"
     ]
    }
   ],
   "source": [
    "print('## Shape of Stopping state ##')\n",
    "print('number of data : ', data_S_free.shape[0])\n",
    "print('number of feature : ', data_S_free.shape[1],'\\n')\n",
    "print('## Data types of Stopping state ##')\n",
    "print(data_S_free.dtypes, '\\n')\n",
    "print('## the number of total IDs in Stopping state ##')\n",
    "print('number of IDs : ',len(data_S_free['Arbitration_ID'].unique()),'\\n')"
   ],
   "metadata": {
    "collapsed": false,
    "pycharm": {
     "name": "#%%\n"
    }
   }
  },
  {
   "cell_type": "code",
   "execution_count": 14,
   "outputs": [
    {
     "name": "stdout",
     "output_type": "stream",
     "text": [
      "## value count of IDs in Driving state ##\n"
     ]
    },
    {
     "data": {
      "text/plain": "260    7466\n153    7466\n220    7466\n251    7465\n367    7465\n       ... \n5B0      75\n043      75\n5BE      74\n07F      74\n57F      37\nName: Arbitration_ID, Length: 73, dtype: int64"
     },
     "execution_count": 14,
     "metadata": {},
     "output_type": "execute_result"
    }
   ],
   "source": [
    "print('## value count of IDs in Driving state ##')\n",
    "data_D_free['Arbitration_ID'].value_counts()"
   ],
   "metadata": {
    "collapsed": false,
    "pycharm": {
     "name": "#%%\n"
    }
   }
  },
  {
   "cell_type": "code",
   "execution_count": 8,
   "outputs": [
    {
     "name": "stdout",
     "output_type": "stream",
     "text": [
      "## value count of IDs ##\n"
     ]
    },
    {
     "data": {
      "text/plain": "2B0    7531\n251    7531\n164    7531\n356    7531\n366    7531\n       ... \n5B0      76\n043      75\n5BE      75\n07F      75\n57F      37\nName: Arbitration_ID, Length: 73, dtype: int64"
     },
     "execution_count": 8,
     "metadata": {},
     "output_type": "execute_result"
    }
   ],
   "source": [
    "print('## value count of IDs ##')\n",
    "data_S_free['Arbitration_ID'].value_counts()"
   ],
   "metadata": {
    "collapsed": false,
    "pycharm": {
     "name": "#%%\n"
    }
   }
  },
  {
   "cell_type": "code",
   "execution_count": 29,
   "outputs": [],
   "source": [
    "IDs= data_D_free['Arbitration_ID'].value_counts()"
   ],
   "metadata": {
    "collapsed": false,
    "pycharm": {
     "name": "#%%\n"
    }
   }
  },
  {
   "cell_type": "code",
   "execution_count": 86,
   "outputs": [
    {
     "name": "stdout",
     "output_type": "stream",
     "text": [
      "74-- IDs :  ['130' '140' '153' '164' '220' '251' '260' '2B0' '329' '340' '356' '366'\n",
      " '367' '368']\n",
      "37-- IDs :  ['381' '386' '387' '389' '38D' '391' '394' '420' '421' '453' '470' '47F'\n",
      " '4F1']\n",
      "14-- IDs :  ['436' '485' '48A' '490' '492' '58B']\n",
      "10-- IDs :  ['484']\n",
      "7-- IDs :  ['42D' '479' '495' '500' '507' '50C' '520' '53E' '541' '568']\n",
      "6-- IDs :  ['52A']\n",
      "3-- IDs :  ['410' '412' '44E' '483' '48C' '49F' '4A9' '4C9' '4CB' '50A' '50E' '53B'\n",
      " '53F' '544' '553' '559' '572' '593' '5A6' '5CD']\n",
      "Else IDs(150>) :  ['043' '07F' '4A2' '4A7' '563' '57F' '5B0' '5BE']\n"
     ]
    }
   ],
   "source": [
    "print('74-- IDs : ',IDs[IDs>7000].index.sort_values().values)\n",
    "print('37-- IDs : ',IDs[(IDs >= 3000)&(IDs <= 7000)].index.sort_values().values)\n",
    "print('14-- IDs : ',IDs[(IDs >= 1300)&(IDs <= 3000)].index.sort_values().values)\n",
    "print('10-- IDs : ',IDs[(IDs >= 1000)&(IDs <= 1400)].index.sort_values().values)\n",
    "print('7-- IDs : ',IDs[(IDs >= 700)&(IDs <= 1000)].index.sort_values().values)\n",
    "print('6-- IDs : ',IDs[(IDs >= 400)&(IDs <= 700)].index.sort_values().values)\n",
    "print('3-- IDs : ',IDs[(IDs >= 200)&(IDs <= 400)].index.sort_values().values)\n",
    "print('Else IDs(150>) : ',IDs[IDs <= 200].index.sort_values().values)"
   ],
   "metadata": {
    "collapsed": false,
    "pycharm": {
     "name": "#%%\n"
    }
   }
  },
  {
   "cell_type": "code",
   "execution_count": 88,
   "outputs": [],
   "source": [
    "IDs_= data_S_free['Arbitration_ID'].value_counts()"
   ],
   "metadata": {
    "collapsed": false,
    "pycharm": {
     "name": "#%%\n"
    }
   }
  },
  {
   "cell_type": "code",
   "execution_count": 143,
   "outputs": [
    {
     "name": "stdout",
     "output_type": "stream",
     "text": [
      "75-- IDs :  ['130' '140' '153' '164' '220' '251' '260' '2B0' '329' '340' '356' '366'\n",
      " '367' '368'] time interval : 25\n",
      "37-- IDs :  ['381' '386' '387' '389' '38D' '391' '394' '420' '421' '453' '470' '47F'\n",
      " '4F1'] time interval : 50\n",
      "15-- IDs :  ['436' '485' '48A' '490' '492' '58B'] time interval : 75\n",
      "10-- IDs :  ['484']\n",
      "7-- IDs :  ['42D' '479' '495' '500' '507' '50C' '520' '53E' '541' '568'] time interval : 100\n",
      "6-- IDs :  []\n",
      "3-- IDs :  ['410' '412' '44E' '483' '48C' '49F' '4A9' '4C9' '4CB' '50A' '50E' '52A'\n",
      " '53B' '53F' '544' '553' '559' '572' '593' '5A6' '5CD']\n",
      "Else IDs(150>) :  ['043' '07F' '4A2' '4A7' '563' '57F' '5B0' '5BE']\n"
     ]
    }
   ],
   "source": [
    "print('75-- IDs : ',IDs_[IDs_>7000].index.sort_values().values, 'time interval : 25')\n",
    "print('37-- IDs : ',IDs_[(IDs_ >= 3000)&(IDs_ <= 7000)].index.sort_values().values, 'time interval : 50')\n",
    "print('15-- IDs : ',IDs_[(IDs_ >= 1300)&(IDs_ <= 3000)].index.sort_values().values, 'time interval : 130')\n",
    "print('10-- IDs : ',IDs_[(IDs_ >= 1000)&(IDs_ <= 1400)].index.sort_values().values, 'time interval : 170')\n",
    "print('7-- IDs : ',IDs_[(IDs_ >= 700)&(IDs_ <= 1000)].index.sort_values().values, 'time interval : 240')\n",
    "print('6-- IDs : ',IDs_[(IDs_ >= 400)&(IDs_ <= 700)].index.sort_values().values)\n",
    "print('3-- IDs : ',IDs_[(IDs_ >= 200)&(IDs_ <= 400)].index.sort_values().values, 'time interval : 500')\n",
    "print('Else IDs(150>) : ',IDs_[IDs_ <= 200].index.sort_values().values)"
   ],
   "metadata": {
    "collapsed": false,
    "pycharm": {
     "name": "#%%\n"
    }
   }
  },
  {
   "cell_type": "markdown",
   "source": [
    "Most of IDs in driving state and stopping state has same elements except '52A'\n",
    "I select main id to 130, 381, 436, 42D, 410"
   ],
   "metadata": {
    "collapsed": false
   }
  },
  {
   "cell_type": "code",
   "execution_count": 148,
   "outputs": [
    {
     "data": {
      "text/plain": "193       60 12 40 00 01 00 00 00\n676       60 12 40 00 01 00 00 00\n1154      60 12 40 00 01 00 00 00\n1632      60 12 40 00 01 00 00 00\n2113      60 12 40 00 01 00 00 00\n                   ...           \n177007    60 12 40 00 01 00 00 00\n177487    60 12 40 00 01 00 00 00\n177971    60 12 40 00 01 00 00 00\n178450    60 12 40 00 01 00 00 00\n178930    60 12 40 00 01 00 00 00\nName: Data, Length: 373, dtype: object"
     },
     "execution_count": 148,
     "metadata": {},
     "output_type": "execute_result"
    }
   ],
   "source": [
    "data_D_free[data_D_free['Arbitration_ID'].isin(['410'])]['Data']"
   ],
   "metadata": {
    "collapsed": false,
    "pycharm": {
     "name": "#%%\n"
    }
   }
  },
  {
   "cell_type": "markdown",
   "source": [
    "Data : data[0], data[1] , ... , data[6], data[7]\n",
    "- feature of ID 130\n",
    "--  data[1] is 80 or 7F\n",
    "--  data[3] is 80 or 7F or 81\n",
    "--  data[4], data[5] is 00\n",
    "--  data[6] have order(00 to 0F)"
   ],
   "metadata": {
    "collapsed": false
   }
  },
  {
   "cell_type": "code",
   "execution_count": 105,
   "outputs": [
    {
     "data": {
      "text/plain": "19        80 28 42 00 00 EE 12 05\n65        80 F0 41 00 00 EF 0E 05\n114       80 A8 41 00 00 F0 57 05\n169       80 70 41 00 00 F1 F5 05\n216       80 48 41 00 00 F2 17 05\n                   ...           \n179141    80 20 41 00 00 7E DB 05\n179185    80 20 41 00 00 7F 97 05\n179234    80 20 41 00 00 80 D6 05\n179276    80 48 41 00 00 81 E8 05\n179329    80 30 41 00 00 82 5A 05\nName: Data, Length: 3733, dtype: object"
     },
     "execution_count": 105,
     "metadata": {},
     "output_type": "execute_result"
    }
   ],
   "source": [
    "data_D_free[data_D_free['Arbitration_ID'].isin(['381'])]['Data']"
   ],
   "metadata": {
    "collapsed": false,
    "pycharm": {
     "name": "#%%\n"
    }
   }
  },
  {
   "cell_type": "markdown",
   "source": [
    "- feature of ID 381\n",
    "--  data[0] is 80\n",
    "--  data[1], data[2] is very different (maybe this sensor is driving system)\n",
    "--  data[3], data[4] is 00\n",
    "--  data[5] have order(00 to FF)\n",
    "--  data[7] is 05"
   ],
   "metadata": {
    "collapsed": false
   }
  },
  {
   "cell_type": "code",
   "execution_count": 114,
   "outputs": [],
   "source": [
    "# data_D_free[data_D_free['Arbitration_ID'].isin(['436'])]['Data']\n",
    "# data_D_free[data_D_free['Arbitration_ID'].isin(['42D'])]['Data']\n",
    "# data_D_free[data_D_free['Arbitration_ID'].isin(['410'])]['Data']"
   ],
   "metadata": {
    "collapsed": false,
    "pycharm": {
     "name": "#%%\n"
    }
   }
  },
  {
   "cell_type": "markdown",
   "source": [
    "- feature of ID 436 in D and S\n",
    "--  all data is 00 00 00 04\n",
    "- feature of ID 42D in D and S\n",
    "--  all data is 00 00 00 00 00 D0 07 FA\n",
    "- feature of ID 410 in D and S\n",
    "--  all data is 60 12 40 00 01 00 00 00"
   ],
   "metadata": {
    "collapsed": false
   }
  },
  {
   "cell_type": "markdown",
   "source": [
    "75-- IDs :\n",
    "-- perfect order : ['130' '140' '153' '164' '220' '251' '260' '340' ]\n",
    "-- atypical order : [ '329' '366' '368' ]\n",
    "-- no order : ['2B0' '356' '367' ]\n",
    "37-- IDs :\n",
    "-- perfect order : ['381' '387' '391' '420' '47F' '4F1']\n",
    "-- atypical order : ['386' '38D' '394' '470' ]\n",
    "-- no order : ['389' '453' ]\n",
    "\n",
    "result : some IDs has perfect order such as 00, 01, ... , FE, FF. some of them are same code like ID 436\n",
    "it is good chance to cheat IDS\n",
    "\n"
   ],
   "metadata": {
    "collapsed": false
   }
  },
  {
   "cell_type": "code",
   "execution_count": 154,
   "outputs": [
    {
     "name": "stdout",
     "output_type": "stream",
     "text": [
      "75-- IDs  time interval : 25\n",
      "37-- IDs  time interval : 50\n",
      "15-- IDs  time interval : 130\n",
      "10-- IDs  time interval : 170\n",
      "7-- IDs   time interval : 240\n",
      "3-- IDs   time interval : 500\n"
     ]
    }
   ],
   "source": [
    "print('75-- IDs ', 'time interval : 25')\n",
    "print('37-- IDs ','time interval : 50')\n",
    "print('15-- IDs ', 'time interval : 130')\n",
    "print('10-- IDs ','time interval : 170')\n",
    "print('7-- IDs ',' time interval : 240')\n",
    "print('3-- IDs ',' time interval : 500')"
   ],
   "metadata": {
    "collapsed": false,
    "pycharm": {
     "name": "#%%\n"
    }
   }
  },
  {
   "cell_type": "markdown",
   "source": [
    "# 3. attack data EDA"
   ],
   "metadata": {
    "collapsed": false
   }
  },
  {
   "cell_type": "markdown",
   "source": [
    "Attack: Attack traffic injected. Four types of attacks are included -- Flooding, Spoofing, Replay, Fuzzing.\n",
    "\n",
    "- Flooding: Flooding attack aims to consume CAN bus bandwidth by sending a massive number of messages. ( ID and data are 000 )\n",
    "\n",
    "- Spoofing: CAN messages are injected to control certain desired function. ( normal ID + fixed data )\n",
    "\n",
    "- Replay: Replay attack is to extract normal traffic at a specific time and replay (inject) it into the CAN bus. (ctrl+C , ctrl+v)\n",
    "\n",
    "- Fuzzing: Random messages are injected to cause unexpected behavior of the vehicle. (normal ID +random 7 ID and random data)"
   ],
   "metadata": {
    "collapsed": false
   }
  },
  {
   "cell_type": "code",
   "execution_count": 158,
   "outputs": [
    {
     "data": {
      "text/plain": "      Timestamp Arbitration_ID  DLC                     Data   Class SubClass\n0  1.597760e+09            153    8  20 A1 10 FF 00 FF 50 1F  Normal   Normal\n1  1.597760e+09            220    8  13 24 7F 60 05 FF BF 10  Normal   Normal\n2  1.597760e+09            507    4              08 00 00 01  Normal   Normal\n3  1.597760e+09            356    8  00 00 00 80 16 00 00 00  Normal   Normal\n4  1.597760e+09            340    8  FC 03 00 E4 B7 21 FA 3C  Normal   Normal",
      "text/html": "<div>\n<style scoped>\n    .dataframe tbody tr th:only-of-type {\n        vertical-align: middle;\n    }\n\n    .dataframe tbody tr th {\n        vertical-align: top;\n    }\n\n    .dataframe thead th {\n        text-align: right;\n    }\n</style>\n<table border=\"1\" class=\"dataframe\">\n  <thead>\n    <tr style=\"text-align: right;\">\n      <th></th>\n      <th>Timestamp</th>\n      <th>Arbitration_ID</th>\n      <th>DLC</th>\n      <th>Data</th>\n      <th>Class</th>\n      <th>SubClass</th>\n    </tr>\n  </thead>\n  <tbody>\n    <tr>\n      <th>0</th>\n      <td>1.597760e+09</td>\n      <td>153</td>\n      <td>8</td>\n      <td>20 A1 10 FF 00 FF 50 1F</td>\n      <td>Normal</td>\n      <td>Normal</td>\n    </tr>\n    <tr>\n      <th>1</th>\n      <td>1.597760e+09</td>\n      <td>220</td>\n      <td>8</td>\n      <td>13 24 7F 60 05 FF BF 10</td>\n      <td>Normal</td>\n      <td>Normal</td>\n    </tr>\n    <tr>\n      <th>2</th>\n      <td>1.597760e+09</td>\n      <td>507</td>\n      <td>4</td>\n      <td>08 00 00 01</td>\n      <td>Normal</td>\n      <td>Normal</td>\n    </tr>\n    <tr>\n      <th>3</th>\n      <td>1.597760e+09</td>\n      <td>356</td>\n      <td>8</td>\n      <td>00 00 00 80 16 00 00 00</td>\n      <td>Normal</td>\n      <td>Normal</td>\n    </tr>\n    <tr>\n      <th>4</th>\n      <td>1.597760e+09</td>\n      <td>340</td>\n      <td>8</td>\n      <td>FC 03 00 E4 B7 21 FA 3C</td>\n      <td>Normal</td>\n      <td>Normal</td>\n    </tr>\n  </tbody>\n</table>\n</div>"
     },
     "execution_count": 158,
     "metadata": {},
     "output_type": "execute_result"
    }
   ],
   "source": [
    "data_D_attack_1.head()"
   ],
   "metadata": {
    "collapsed": false,
    "pycharm": {
     "name": "#%%\n"
    }
   }
  },
  {
   "cell_type": "code",
   "execution_count": 160,
   "outputs": [
    {
     "data": {
      "text/plain": "      Timestamp Arbitration_ID  DLC                     Data   Class SubClass\n0  1.599046e+09            164    4              00 08 12 5C  Normal   Normal\n1  1.599046e+09            340    8  00 00 00 24 D6 01 B5 30  Normal   Normal\n2  1.599046e+09            386    8  00 00 00 80 00 40 00 80  Normal   Normal\n3  1.599046e+09            485    4              02 00 00 00  Normal   Normal\n4  1.599046e+09            130    8  04 80 58 80 00 00 0E 56  Normal   Normal",
      "text/html": "<div>\n<style scoped>\n    .dataframe tbody tr th:only-of-type {\n        vertical-align: middle;\n    }\n\n    .dataframe tbody tr th {\n        vertical-align: top;\n    }\n\n    .dataframe thead th {\n        text-align: right;\n    }\n</style>\n<table border=\"1\" class=\"dataframe\">\n  <thead>\n    <tr style=\"text-align: right;\">\n      <th></th>\n      <th>Timestamp</th>\n      <th>Arbitration_ID</th>\n      <th>DLC</th>\n      <th>Data</th>\n      <th>Class</th>\n      <th>SubClass</th>\n    </tr>\n  </thead>\n  <tbody>\n    <tr>\n      <th>0</th>\n      <td>1.599046e+09</td>\n      <td>164</td>\n      <td>4</td>\n      <td>00 08 12 5C</td>\n      <td>Normal</td>\n      <td>Normal</td>\n    </tr>\n    <tr>\n      <th>1</th>\n      <td>1.599046e+09</td>\n      <td>340</td>\n      <td>8</td>\n      <td>00 00 00 24 D6 01 B5 30</td>\n      <td>Normal</td>\n      <td>Normal</td>\n    </tr>\n    <tr>\n      <th>2</th>\n      <td>1.599046e+09</td>\n      <td>386</td>\n      <td>8</td>\n      <td>00 00 00 80 00 40 00 80</td>\n      <td>Normal</td>\n      <td>Normal</td>\n    </tr>\n    <tr>\n      <th>3</th>\n      <td>1.599046e+09</td>\n      <td>485</td>\n      <td>4</td>\n      <td>02 00 00 00</td>\n      <td>Normal</td>\n      <td>Normal</td>\n    </tr>\n    <tr>\n      <th>4</th>\n      <td>1.599046e+09</td>\n      <td>130</td>\n      <td>8</td>\n      <td>04 80 58 80 00 00 0E 56</td>\n      <td>Normal</td>\n      <td>Normal</td>\n    </tr>\n  </tbody>\n</table>\n</div>"
     },
     "execution_count": 160,
     "metadata": {},
     "output_type": "execute_result"
    }
   ],
   "source": [
    "data_D_attack_2.head()"
   ],
   "metadata": {
    "collapsed": false,
    "pycharm": {
     "name": "#%%\n"
    }
   }
  },
  {
   "cell_type": "code",
   "execution_count": 166,
   "outputs": [
    {
     "name": "stdout",
     "output_type": "stream",
     "text": [
      "## Shape of Driving state ##\n",
      "number of data :  806390\n",
      "number of feature :  6 \n",
      "\n",
      "## Data types of Driving state ##\n",
      "Timestamp         float64\n",
      "Arbitration_ID     object\n",
      "DLC                 int64\n",
      "Data               object\n",
      "Class              object\n",
      "SubClass           object\n",
      "dtype: object \n",
      "\n",
      "## the number of total IDs in Driving state ##\n",
      "number of IDs :  81 \n",
      "\n"
     ]
    }
   ],
   "source": [
    "print('## Shape of Driving state ##')\n",
    "print('number of data : ', data_D_attack_1.shape[0])\n",
    "print('number of feature : ', data_D_attack_1.shape[1],'\\n')\n",
    "print('## Data types of Driving state ##')\n",
    "print(data_D_attack_1.dtypes, '\\n')\n",
    "print('## the number of total IDs in Driving state ##')\n",
    "print('number of IDs : ',len(data_D_attack_1['Arbitration_ID'].unique()),'\\n')"
   ],
   "metadata": {
    "collapsed": false,
    "pycharm": {
     "name": "#%%\n"
    }
   }
  },
  {
   "cell_type": "code",
   "execution_count": 168,
   "outputs": [
    {
     "name": "stdout",
     "output_type": "stream",
     "text": [
      "## Shape of Driving state ##\n",
      "number of data :  889395\n",
      "number of feature :  6 \n",
      "\n",
      "## Data types of Driving state ##\n",
      "Timestamp         float64\n",
      "Arbitration_ID     object\n",
      "DLC                 int64\n",
      "Data               object\n",
      "Class              object\n",
      "SubClass           object\n",
      "dtype: object \n",
      "\n",
      "## the number of total IDs in Driving state ##\n",
      "number of IDs :  81 \n",
      "\n"
     ]
    }
   ],
   "source": [
    "print('## Shape of Driving state ##')\n",
    "print('number of data : ', data_D_attack_2.shape[0])\n",
    "print('number of feature : ', data_D_attack_2.shape[1],'\\n')\n",
    "print('## Data types of Driving state ##')\n",
    "print(data_D_attack_2.dtypes, '\\n')\n",
    "print('## the number of total IDs in Driving state ##')\n",
    "print('number of IDs : ',len(data_D_attack_2['Arbitration_ID'].unique()),'\\n')"
   ],
   "metadata": {
    "collapsed": false,
    "pycharm": {
     "name": "#%%\n"
    }
   }
  },
  {
   "cell_type": "code",
   "execution_count": 171,
   "outputs": [
    {
     "name": "stdout",
     "output_type": "stream",
     "text": [
      "## value count of IDs in Driving state attack 1 ##\n"
     ]
    },
    {
     "data": {
      "text/plain": "000    38521\n366    31638\n251    31444\n220    31412\n2B0    31408\n       ...  \n7D4      270\n7DC      266\n7C4      265\n7D0      255\n7D8      246\nName: Arbitration_ID, Length: 81, dtype: int64"
     },
     "execution_count": 171,
     "metadata": {},
     "output_type": "execute_result"
    }
   ],
   "source": [
    "print('## value count of IDs in Driving state attack 1 ##')\n",
    "data_D_attack_1['Arbitration_ID'].value_counts()"
   ],
   "metadata": {
    "collapsed": false,
    "pycharm": {
     "name": "#%%\n"
    }
   }
  },
  {
   "cell_type": "markdown",
   "source": [],
   "metadata": {
    "collapsed": false
   }
  },
  {
   "cell_type": "code",
   "execution_count": 172,
   "outputs": [
    {
     "name": "stdout",
     "output_type": "stream",
     "text": [
      "## value count of IDs in Driving state attack 2 ##\n"
     ]
    },
    {
     "data": {
      "text/plain": "000    38852\n366    35945\n220    34789\n153    34784\n260    34741\n       ...  \n4A4      277\n7C4      265\n7D0      260\n7DC      259\n7CC      236\nName: Arbitration_ID, Length: 81, dtype: int64"
     },
     "execution_count": 172,
     "metadata": {},
     "output_type": "execute_result"
    }
   ],
   "source": [
    "print('## value count of IDs in Driving state attack 2 ##')\n",
    "data_D_attack_2['Arbitration_ID'].value_counts()"
   ],
   "metadata": {
    "collapsed": false,
    "pycharm": {
     "name": "#%%\n"
    }
   }
  },
  {
   "cell_type": "markdown",
   "source": [
    " added fake data in attack_D_1 attack_D_2: ['000' '4A4' '7CC' '7D4' '7DC' '7C4' '7D0' '7D8']"
   ],
   "metadata": {
    "collapsed": false
   }
  },
  {
   "cell_type": "code",
   "execution_count": 206,
   "outputs": [
    {
     "name": "stdout",
     "output_type": "stream",
     "text": [
      "## the number of attack in Driving state attack 1 ##\n",
      "Flooding:  38521\n",
      "Spoofing:  988\n",
      "Replay  :  10509\n",
      "Fuzzing :  22620\n"
     ]
    }
   ],
   "source": [
    "print('## the number of attack in Driving state attack 1 ##')\n",
    "print('Flooding: ',len(data_D_attack_1[data_D_attack_1['SubClass'].isin(['Flooding'])]))\n",
    "print('Spoofing: ',len(data_D_attack_1[data_D_attack_1['SubClass'].isin(['Spoofing'])]))\n",
    "print('Replay  : ',len(data_D_attack_1[data_D_attack_1['SubClass'].isin(['Replay'])]))\n",
    "print('Fuzzing : ',len(data_D_attack_1[data_D_attack_1['SubClass'].isin(['Fuzzing'])]))\n"
   ],
   "metadata": {
    "collapsed": false,
    "pycharm": {
     "name": "#%%\n"
    }
   }
  },
  {
   "cell_type": "code",
   "execution_count": 207,
   "outputs": [
    {
     "name": "stdout",
     "output_type": "stream",
     "text": [
      "## the number of attack in Driving state attack 2 ##\n",
      "Flooding:  38852\n",
      "Spoofing:  2891\n",
      "Replay  :  13266\n",
      "Fuzzing :  22854\n"
     ]
    }
   ],
   "source": [
    "print('## the number of attack in Driving state attack 2 ##')\n",
    "print('Flooding: ',len(data_D_attack_2[data_D_attack_2['SubClass'].isin(['Flooding'])]))\n",
    "print('Spoofing: ',len(data_D_attack_2[data_D_attack_2['SubClass'].isin(['Spoofing'])]))\n",
    "print('Replay  : ',len(data_D_attack_2[data_D_attack_2['SubClass'].isin(['Replay'])]))\n",
    "print('Fuzzing : ',len(data_D_attack_2[data_D_attack_2['SubClass'].isin(['Fuzzing'])]))"
   ],
   "metadata": {
    "collapsed": false,
    "pycharm": {
     "name": "#%%\n"
    }
   }
  },
  {
   "cell_type": "code",
   "execution_count": 211,
   "outputs": [
    {
     "data": {
      "text/plain": "553    494\n366    494\nName: Arbitration_ID, dtype: int64"
     },
     "execution_count": 211,
     "metadata": {},
     "output_type": "execute_result"
    }
   ],
   "source": [
    "Spoofing_IDs1 = data_D_attack_1[data_D_attack_1['SubClass'].isin(['Spoofing'])]\n",
    "Spoofing_IDs1['Arbitration_ID'].value_counts()"
   ],
   "metadata": {
    "collapsed": false,
    "pycharm": {
     "name": "#%%\n"
    }
   }
  },
  {
   "cell_type": "code",
   "execution_count": 212,
   "outputs": [
    {
     "data": {
      "text/plain": "553    1448\n366    1443\nName: Arbitration_ID, dtype: int64"
     },
     "execution_count": 212,
     "metadata": {},
     "output_type": "execute_result"
    }
   ],
   "source": [
    "Spoofing_IDs2 = data_D_attack_2[data_D_attack_2['SubClass'].isin(['Spoofing'])]\n",
    "Spoofing_IDs2['Arbitration_ID'].value_counts()"
   ],
   "metadata": {
    "collapsed": false,
    "pycharm": {
     "name": "#%%\n"
    }
   }
  },
  {
   "cell_type": "code",
   "execution_count": 214,
   "outputs": [
    {
     "data": {
      "text/plain": "           Timestamp Arbitration_ID  DLC                     Data   Class  \\\n180846  1.597760e+09            553    8  00 00 00 02 01 00 80 00  Attack   \n180994  1.597760e+09            553    8  00 00 00 02 01 00 80 00  Attack   \n181136  1.597760e+09            553    8  00 00 00 02 01 00 80 00  Attack   \n181283  1.597760e+09            553    8  00 00 00 02 01 00 80 00  Attack   \n181439  1.597760e+09            553    8  00 00 00 02 01 00 80 00  Attack   \n...              ...            ...  ...                      ...     ...   \n590546  1.597760e+09            553    8  00 00 00 02 01 00 80 00  Attack   \n590691  1.597760e+09            553    8  00 00 00 02 01 00 80 00  Attack   \n590836  1.597760e+09            553    8  00 00 00 02 01 00 80 00  Attack   \n590984  1.597760e+09            553    8  00 00 00 02 01 00 80 00  Attack   \n591135  1.597760e+09            553    8  00 00 00 02 01 00 80 00  Attack   \n\n        SubClass  \n180846  Spoofing  \n180994  Spoofing  \n181136  Spoofing  \n181283  Spoofing  \n181439  Spoofing  \n...          ...  \n590546  Spoofing  \n590691  Spoofing  \n590836  Spoofing  \n590984  Spoofing  \n591135  Spoofing  \n\n[494 rows x 6 columns]",
      "text/html": "<div>\n<style scoped>\n    .dataframe tbody tr th:only-of-type {\n        vertical-align: middle;\n    }\n\n    .dataframe tbody tr th {\n        vertical-align: top;\n    }\n\n    .dataframe thead th {\n        text-align: right;\n    }\n</style>\n<table border=\"1\" class=\"dataframe\">\n  <thead>\n    <tr style=\"text-align: right;\">\n      <th></th>\n      <th>Timestamp</th>\n      <th>Arbitration_ID</th>\n      <th>DLC</th>\n      <th>Data</th>\n      <th>Class</th>\n      <th>SubClass</th>\n    </tr>\n  </thead>\n  <tbody>\n    <tr>\n      <th>180846</th>\n      <td>1.597760e+09</td>\n      <td>553</td>\n      <td>8</td>\n      <td>00 00 00 02 01 00 80 00</td>\n      <td>Attack</td>\n      <td>Spoofing</td>\n    </tr>\n    <tr>\n      <th>180994</th>\n      <td>1.597760e+09</td>\n      <td>553</td>\n      <td>8</td>\n      <td>00 00 00 02 01 00 80 00</td>\n      <td>Attack</td>\n      <td>Spoofing</td>\n    </tr>\n    <tr>\n      <th>181136</th>\n      <td>1.597760e+09</td>\n      <td>553</td>\n      <td>8</td>\n      <td>00 00 00 02 01 00 80 00</td>\n      <td>Attack</td>\n      <td>Spoofing</td>\n    </tr>\n    <tr>\n      <th>181283</th>\n      <td>1.597760e+09</td>\n      <td>553</td>\n      <td>8</td>\n      <td>00 00 00 02 01 00 80 00</td>\n      <td>Attack</td>\n      <td>Spoofing</td>\n    </tr>\n    <tr>\n      <th>181439</th>\n      <td>1.597760e+09</td>\n      <td>553</td>\n      <td>8</td>\n      <td>00 00 00 02 01 00 80 00</td>\n      <td>Attack</td>\n      <td>Spoofing</td>\n    </tr>\n    <tr>\n      <th>...</th>\n      <td>...</td>\n      <td>...</td>\n      <td>...</td>\n      <td>...</td>\n      <td>...</td>\n      <td>...</td>\n    </tr>\n    <tr>\n      <th>590546</th>\n      <td>1.597760e+09</td>\n      <td>553</td>\n      <td>8</td>\n      <td>00 00 00 02 01 00 80 00</td>\n      <td>Attack</td>\n      <td>Spoofing</td>\n    </tr>\n    <tr>\n      <th>590691</th>\n      <td>1.597760e+09</td>\n      <td>553</td>\n      <td>8</td>\n      <td>00 00 00 02 01 00 80 00</td>\n      <td>Attack</td>\n      <td>Spoofing</td>\n    </tr>\n    <tr>\n      <th>590836</th>\n      <td>1.597760e+09</td>\n      <td>553</td>\n      <td>8</td>\n      <td>00 00 00 02 01 00 80 00</td>\n      <td>Attack</td>\n      <td>Spoofing</td>\n    </tr>\n    <tr>\n      <th>590984</th>\n      <td>1.597760e+09</td>\n      <td>553</td>\n      <td>8</td>\n      <td>00 00 00 02 01 00 80 00</td>\n      <td>Attack</td>\n      <td>Spoofing</td>\n    </tr>\n    <tr>\n      <th>591135</th>\n      <td>1.597760e+09</td>\n      <td>553</td>\n      <td>8</td>\n      <td>00 00 00 02 01 00 80 00</td>\n      <td>Attack</td>\n      <td>Spoofing</td>\n    </tr>\n  </tbody>\n</table>\n<p>494 rows × 6 columns</p>\n</div>"
     },
     "execution_count": 214,
     "metadata": {},
     "output_type": "execute_result"
    }
   ],
   "source": [
    "Spoofing_IDs1[Spoofing_IDs1['Arbitration_ID'].isin(['553'])]"
   ],
   "metadata": {
    "collapsed": false,
    "pycharm": {
     "name": "#%%\n"
    }
   }
  },
  {
   "cell_type": "code",
   "execution_count": 215,
   "outputs": [
    {
     "data": {
      "text/plain": "           Timestamp Arbitration_ID  DLC                     Data   Class  \\\n151     1.597760e+09            553    8  00 01 19 02 01 00 80 00  Normal   \n633     1.597760e+09            553    8  00 01 19 02 01 00 80 00  Normal   \n1111    1.597760e+09            553    8  00 01 19 02 01 00 80 00  Normal   \n1590    1.597760e+09            553    8  00 01 19 02 01 00 80 00  Normal   \n2072    1.597760e+09            553    8  00 01 19 02 01 00 80 00  Normal   \n...              ...            ...  ...                      ...     ...   \n804013  1.597760e+09            553    8  00 01 19 02 01 00 80 00  Normal   \n804492  1.597760e+09            553    8  00 01 19 02 01 00 80 00  Normal   \n804974  1.597760e+09            553    8  00 01 19 02 01 00 80 00  Normal   \n805452  1.597760e+09            553    8  00 01 19 02 01 00 80 00  Normal   \n805931  1.597760e+09            553    8  00 01 19 02 01 00 80 00  Normal   \n\n       SubClass  \n151      Normal  \n633      Normal  \n1111     Normal  \n1590     Normal  \n2072     Normal  \n...         ...  \n804013   Normal  \n804492   Normal  \n804974   Normal  \n805452   Normal  \n805931   Normal  \n\n[2281 rows x 6 columns]",
      "text/html": "<div>\n<style scoped>\n    .dataframe tbody tr th:only-of-type {\n        vertical-align: middle;\n    }\n\n    .dataframe tbody tr th {\n        vertical-align: top;\n    }\n\n    .dataframe thead th {\n        text-align: right;\n    }\n</style>\n<table border=\"1\" class=\"dataframe\">\n  <thead>\n    <tr style=\"text-align: right;\">\n      <th></th>\n      <th>Timestamp</th>\n      <th>Arbitration_ID</th>\n      <th>DLC</th>\n      <th>Data</th>\n      <th>Class</th>\n      <th>SubClass</th>\n    </tr>\n  </thead>\n  <tbody>\n    <tr>\n      <th>151</th>\n      <td>1.597760e+09</td>\n      <td>553</td>\n      <td>8</td>\n      <td>00 01 19 02 01 00 80 00</td>\n      <td>Normal</td>\n      <td>Normal</td>\n    </tr>\n    <tr>\n      <th>633</th>\n      <td>1.597760e+09</td>\n      <td>553</td>\n      <td>8</td>\n      <td>00 01 19 02 01 00 80 00</td>\n      <td>Normal</td>\n      <td>Normal</td>\n    </tr>\n    <tr>\n      <th>1111</th>\n      <td>1.597760e+09</td>\n      <td>553</td>\n      <td>8</td>\n      <td>00 01 19 02 01 00 80 00</td>\n      <td>Normal</td>\n      <td>Normal</td>\n    </tr>\n    <tr>\n      <th>1590</th>\n      <td>1.597760e+09</td>\n      <td>553</td>\n      <td>8</td>\n      <td>00 01 19 02 01 00 80 00</td>\n      <td>Normal</td>\n      <td>Normal</td>\n    </tr>\n    <tr>\n      <th>2072</th>\n      <td>1.597760e+09</td>\n      <td>553</td>\n      <td>8</td>\n      <td>00 01 19 02 01 00 80 00</td>\n      <td>Normal</td>\n      <td>Normal</td>\n    </tr>\n    <tr>\n      <th>...</th>\n      <td>...</td>\n      <td>...</td>\n      <td>...</td>\n      <td>...</td>\n      <td>...</td>\n      <td>...</td>\n    </tr>\n    <tr>\n      <th>804013</th>\n      <td>1.597760e+09</td>\n      <td>553</td>\n      <td>8</td>\n      <td>00 01 19 02 01 00 80 00</td>\n      <td>Normal</td>\n      <td>Normal</td>\n    </tr>\n    <tr>\n      <th>804492</th>\n      <td>1.597760e+09</td>\n      <td>553</td>\n      <td>8</td>\n      <td>00 01 19 02 01 00 80 00</td>\n      <td>Normal</td>\n      <td>Normal</td>\n    </tr>\n    <tr>\n      <th>804974</th>\n      <td>1.597760e+09</td>\n      <td>553</td>\n      <td>8</td>\n      <td>00 01 19 02 01 00 80 00</td>\n      <td>Normal</td>\n      <td>Normal</td>\n    </tr>\n    <tr>\n      <th>805452</th>\n      <td>1.597760e+09</td>\n      <td>553</td>\n      <td>8</td>\n      <td>00 01 19 02 01 00 80 00</td>\n      <td>Normal</td>\n      <td>Normal</td>\n    </tr>\n    <tr>\n      <th>805931</th>\n      <td>1.597760e+09</td>\n      <td>553</td>\n      <td>8</td>\n      <td>00 01 19 02 01 00 80 00</td>\n      <td>Normal</td>\n      <td>Normal</td>\n    </tr>\n  </tbody>\n</table>\n<p>2281 rows × 6 columns</p>\n</div>"
     },
     "execution_count": 215,
     "metadata": {},
     "output_type": "execute_result"
    }
   ],
   "source": [
    "data_D_attack_1[data_D_attack_1['Arbitration_ID'].isin(['553'])]"
   ],
   "metadata": {
    "collapsed": false,
    "pycharm": {
     "name": "#%%\n"
    }
   }
  },
  {
   "cell_type": "markdown",
   "source": [
    "ID 553, ID 366 are main Flooding target to attack IDS\n",
    "\n"
   ],
   "metadata": {
    "collapsed": false
   }
  },
  {
   "cell_type": "code",
   "execution_count": 199,
   "outputs": [
    {
     "data": {
      "text/plain": "130    438\n260    438\n164    438\n251    438\n2B0    438\n      ... \n043      5\n5BE      4\n07F      4\n5B0      4\n57F      2\nName: Arbitration_ID, Length: 73, dtype: int64"
     },
     "execution_count": 199,
     "metadata": {},
     "output_type": "execute_result"
    }
   ],
   "source": [
    "Replay_IDs1 = data_D_attack_1[data_D_attack_1['SubClass'].isin(['Replay'])]\n",
    "Replay_IDs1['Arbitration_ID'].value_counts()"
   ],
   "metadata": {
    "collapsed": false,
    "pycharm": {
     "name": "#%%\n"
    }
   }
  },
  {
   "cell_type": "code",
   "execution_count": 200,
   "outputs": [
    {
     "data": {
      "text/plain": "367    560\n130    552\n329    552\n260    552\n140    552\n      ... \n043      6\n5BE      5\n07F      5\n5B0      5\n57F      2\nName: Arbitration_ID, Length: 73, dtype: int64"
     },
     "execution_count": 200,
     "metadata": {},
     "output_type": "execute_result"
    }
   ],
   "source": [
    "Replay_IDs2 = data_D_attack_2[data_D_attack_2['SubClass'].isin(['Replay'])]\n",
    "Replay_IDs2['Arbitration_ID'].value_counts()"
   ],
   "metadata": {
    "collapsed": false,
    "pycharm": {
     "name": "#%%\n"
    }
   }
  },
  {
   "cell_type": "markdown",
   "source": [
    "Replay attack all ID in CAN network ( 73 IDs)"
   ],
   "metadata": {
    "collapsed": false
   }
  },
  {
   "cell_type": "code",
   "execution_count": 201,
   "outputs": [
    {
     "data": {
      "text/plain": "251    541\n140    522\n2B0    518\n220    507\n130    507\n      ... \n7D8    235\n544    233\n44E    233\n495    219\n500    218\nName: Arbitration_ID, Length: 80, dtype: int64"
     },
     "execution_count": 201,
     "metadata": {},
     "output_type": "execute_result"
    }
   ],
   "source": [
    "Fuzzing_IDs1 = data_D_attack_1[data_D_attack_1['SubClass'].isin(['Fuzzing'])]\n",
    "Fuzzing_IDs1['Arbitration_ID'].value_counts()"
   ],
   "metadata": {
    "collapsed": false,
    "pycharm": {
     "name": "#%%\n"
    }
   }
  },
  {
   "cell_type": "code",
   "execution_count": 203,
   "outputs": [
    {
     "data": {
      "text/plain": "220    547\n153    534\n043    523\n251    512\n130    505\n      ... \n5BE    230\n38D    227\n495    227\n7CC    223\n4CB    216\nName: Arbitration_ID, Length: 80, dtype: int64"
     },
     "execution_count": 203,
     "metadata": {},
     "output_type": "execute_result"
    }
   ],
   "source": [
    "Fuzzing_IDs2 = data_D_attack_2[data_D_attack_2['SubClass'].isin(['Fuzzing'])]\n",
    "Fuzzing_IDs2['Arbitration_ID'].value_counts()"
   ],
   "metadata": {
    "collapsed": false,
    "pycharm": {
     "name": "#%%\n"
    }
   }
  },
  {
   "cell_type": "markdown",
   "source": [
    "Fuzzing attacks are all Id + 7 random IDs"
   ],
   "metadata": {
    "collapsed": false
   }
  },
  {
   "cell_type": "markdown",
   "source": [],
   "metadata": {
    "collapsed": false
   }
  },
  {
   "cell_type": "code",
   "execution_count": null,
   "outputs": [],
   "source": [],
   "metadata": {
    "collapsed": false,
    "pycharm": {
     "name": "#%%\n"
    }
   }
  },
  {
   "cell_type": "markdown",
   "source": [],
   "metadata": {
    "collapsed": false,
    "pycharm": {
     "name": "#%% md\n"
    }
   }
  }
 ],
 "metadata": {
  "kernelspec": {
   "display_name": "Python 3",
   "language": "python",
   "name": "python3"
  },
  "language_info": {
   "codemirror_mode": {
    "name": "ipython",
    "version": 2
   },
   "file_extension": ".py",
   "mimetype": "text/x-python",
   "name": "python",
   "nbconvert_exporter": "python",
   "pygments_lexer": "ipython2",
   "version": "2.7.6"
  }
 },
 "nbformat": 4,
 "nbformat_minor": 0
}